{
 "cells": [
  {
   "cell_type": "code",
   "execution_count": null,
   "metadata": {},
   "outputs": [
    {
     "name": "stderr",
     "output_type": "stream",
     "text": [
      "C:\\Users\\Boris\\Anaconda3\\lib\\site-packages\\sklearn\\svm\\base.py:193: FutureWarning: The default value of gamma will change from 'auto' to 'scale' in version 0.22 to account better for unscaled features. Set gamma explicitly to 'auto' or 'scale' to avoid this warning.\n",
      "  \"avoid this warning.\", FutureWarning)\n"
     ]
    }
   ],
   "source": [
    "import numpy as np\n",
    "import pandas as pd\n",
    "from sklearn                        import metrics, svm\n",
    "from sklearn.linear_model           import LinearRegression\n",
    "from sklearn.linear_model           import LogisticRegression\n",
    "from sklearn.tree                   import DecisionTreeClassifier\n",
    "from sklearn.neighbors              import KNeighborsClassifier\n",
    "from sklearn.discriminant_analysis  import LinearDiscriminantAnalysis\n",
    "from sklearn.naive_bayes            import GaussianNB\n",
    "from sklearn.svm                    import SVC\n",
    "from sklearn.model_selection        import train_test_split\n",
    "from sklearn                        import preprocessing\n",
    "from sklearn.metrics                import confusion_matrix, classification_report\n",
    "\n",
    "\n",
    "earthquake= pd.read_csv('database.csv')\n",
    "\n",
    "earthquake.drop(['ID'],1, inplace=True)\n",
    "earthquake.drop(['Source'],1, inplace=True)\n",
    "earthquake.drop(['Magnitude Source'],1, inplace=True)\n",
    "earthquake.drop(['Status'],1, inplace=True)\n",
    "earthquake.drop(['Type'],1, inplace=True)\n",
    "\n",
    "earthquake=earthquake.replace(np.NaN,0)\n",
    "\n",
    "earthquake1=earthquake\n",
    "earthquake1.drop(['Date'],1, inplace=True)\n",
    "earthquake1.drop(['Time'],1, inplace=True)\n",
    "earthquake1.drop(['Location Source'],1, inplace=True)\n",
    "earthquake1.drop(['Magnitude Type'],1, inplace=True)\n",
    "\n",
    "\n",
    "\n",
    "X=earthquake1.drop(columns=['Horizontal Error'])\n",
    "y=earthquake1['Horizontal Error']\n",
    "\n",
    "X_train,X_test,y_train,y_test = train_test_split(X,y,test_size=0.2)\n",
    "\n",
    "lab_enc = preprocessing.LabelEncoder()\n",
    "y_train_encoded = lab_enc.fit_transform(y_train)\n",
    "\n",
    "lab_enc = preprocessing.LabelEncoder()\n",
    "y_test_encoded = lab_enc.fit_transform(y_test)\n",
    "\n",
    "\n",
    "clf = svm.SVC(kernel=\"poly\")\n",
    "clf.fit(X_train,y_train_encoded)\n",
    "print(\"SVC trening podaci predikcija\")\n",
    "print(clf.predict(X_train))\n",
    "class_train_predicted = clf.predict(X_train)\n",
    "\n",
    "print(\"SVC test podaci predikcija\")\n",
    "print(clf.predict(X_test))\n",
    "class_test_predicted = clf.predict(X_test)\n",
    "\n",
    "print(\"Preciznost treninga\")\n",
    "train_acc = clf.score(X_train,y_train_encoded)\n",
    "print (train_acc)\n",
    "\n",
    "print(\"Preciznost testa\")\n",
    "test_acc = clf.score(X_test,y_test_encoded)\n",
    "print(test_acc)\n",
    "\n",
    "print(\"Izracunavamo matricu konfuzije za trening podatke\")\n",
    "train_conf = confusion_matrix(y_train_encoded, class_train_predicted)\n",
    "print(train_conf)\n",
    "\n",
    "print(\"Izracunavamo matricu konfuzije za trening podatke\")\n",
    "test_conf = confusion_matrix(y_test_encoded, class_test_predicted)\n",
    "print(test_conf)\n"
   ]
  },
  {
   "cell_type": "code",
   "execution_count": null,
   "metadata": {},
   "outputs": [],
   "source": []
  }
 ],
 "metadata": {
  "kernelspec": {
   "display_name": "Python 3",
   "language": "python",
   "name": "python3"
  },
  "language_info": {
   "codemirror_mode": {
    "name": "ipython",
    "version": 3
   },
   "file_extension": ".py",
   "mimetype": "text/x-python",
   "name": "python",
   "nbconvert_exporter": "python",
   "pygments_lexer": "ipython3",
   "version": "3.7.3"
  }
 },
 "nbformat": 4,
 "nbformat_minor": 2
}
