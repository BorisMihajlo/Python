{
 "cells": [
  {
   "cell_type": "code",
   "execution_count": null,
   "metadata": {},
   "outputs": [],
   "source": [
    "import numpy as np\n",
    "import pandas as pd\n",
    "\n",
    "\n",
    "earthquake= pd.read_csv('database.csv')\n",
    "earthquake.drop(['ID'],1, inplace=True)\n",
    "earthquake.drop(['Source'],1, inplace=True)\n",
    "earthquake.drop(['Magnitude Source'],1, inplace=True)\n",
    "earthquake.drop(['Status'],1, inplace=True)\n",
    "earthquake.drop(['Type'],1, inplace=True)\n",
    "earthquake.drop([''],1, inplace=True)\n",
    "\n",
    "earthquake\n",
    "\n",
    "\n"
   ]
  },
  {
   "cell_type": "code",
   "execution_count": null,
   "metadata": {},
   "outputs": [],
   "source": []
  },
  {
   "cell_type": "code",
   "execution_count": null,
   "metadata": {},
   "outputs": [],
   "source": []
  }
 ],
 "metadata": {
  "kernelspec": {
   "display_name": "Python 3",
   "language": "python",
   "name": "python3"
  },
  "language_info": {
   "codemirror_mode": {
    "name": "ipython",
    "version": 3
   },
   "file_extension": ".py",
   "mimetype": "text/x-python",
   "name": "python",
   "nbconvert_exporter": "python",
   "pygments_lexer": "ipython3",
   "version": "3.7.3"
  }
 },
 "nbformat": 4,
 "nbformat_minor": 2
}
