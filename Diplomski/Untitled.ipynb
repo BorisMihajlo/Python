{
 "cells": [
  {
   "cell_type": "code",
   "execution_count": 19,
   "metadata": {},
   "outputs": [
    {
     "ename": "IndentationError",
     "evalue": "expected an indented block (<ipython-input-19-83bfc6c16fc4>, line 15)",
     "output_type": "error",
     "traceback": [
      "\u001b[1;36m  File \u001b[1;32m\"<ipython-input-19-83bfc6c16fc4>\"\u001b[1;36m, line \u001b[1;32m15\u001b[0m\n\u001b[1;33m    clf.fit(uzorci_trening, klase_trening.values.ravel()){}\u001b[0m\n\u001b[1;37m      ^\u001b[0m\n\u001b[1;31mIndentationError\u001b[0m\u001b[1;31m:\u001b[0m expected an indented block\n"
     ]
    }
   ],
   "source": [
    "import pandas as pd\n",
    "import numpy as np\n",
    "from sklearn.model_selection import train_test_split\n",
    "from sklearn.neighbors import KNeighborsClassifier\n",
    "from sklearn.externals import joblib\n",
    "from sklearn.metrics import confusion_matrix, classification_report\n",
    "import gc\n",
    "import datetime\n",
    "\n",
    "\n",
    "def save_and_output(file, clf, uzorci_trening, uzorci_test,\n",
    "klase_trening, klase_test):\n",
    "    \n",
    "# Treniramo model\n",
    "clf.fit(uzorci_trening, klase_trening.values.ravel())\n",
    "\n",
    "# Cuvamo model\n",
    "#_ = joblib.dump(clf, \"./\" + file + \".sav\", compress=3)\n",
    "\n",
    "# Vršimo predikciju\n",
    "class_train_predicted = clf.predict(uzorci_trening)\n",
    "class_test_predicted = clf.predict(uzorci_test)\n",
    "# Izracunavamo preciznost\n",
    "\n",
    "train_acc = clf.score(uzorci_trening, klase_trening)\n",
    "test_acc = clf.score(uzorci_test, klase_test)\n",
    "# Izracunavamo matricu konfuzije\n",
    "\n",
    "train_conf = confusion_matrix(klase_trening, class_train_predicted)\n",
    "test_conf = confusion_matrix(klase_test, class_test_predicted)\n",
    "# Ispisujemo dobijene rezultate modela u fajl\n",
    "\n",
    "#f = open(file + \".txt\", \"w\")\n",
    "print(\"Train preciznost: {}\".format(train_acc) )\n",
    "print(\"Test preciznost: {}\".format(test_acc))\n",
    "print(\"Matrica konfuzije za trening skup:\\n{}\".format(train_conf))\n",
    "print(\"Matrica konfuzije za test skup:\\n{}\".format(test_conf))\n",
    "#f.close()\n",
    "\n",
    "# Pocetak izvršavanja programa , pretprocesiraje, brisanje nevaznih kolona\n",
    "earthquake= pd.read_csv('database.csv')\n",
    "\n",
    "earthquake.drop(['ID'],1, inplace=True)\n",
    "earthquake.drop(['Source'],1, inplace=True)\n",
    "earthquake.drop(['Magnitude Source'],1, inplace=True)\n",
    "earthquake.drop(['Status'],1, inplace=True)\n",
    "earthquake.drop(['Type'],1, inplace=True)\n",
    "earthquake=earthquake.replace(np.NaN,0)\n",
    "\n",
    "earthquake1=earthquake\n",
    "earthquake1.drop(['Date'],1, inplace=True)\n",
    "earthquake1.drop(['Time'],1, inplace=True)\n",
    "earthquake1.drop(['Location Source'],1, inplace=True)\n",
    "earthquake1.drop(['Magnitude Type'],1, inplace=True)\n",
    "\n",
    "earthquake2=earthquake1.transpose()\n",
    "\n",
    "# Izdvajanje uzoraka i rezultujucih klasa\n",
    "uzorci = earthquake2.drop(columns=['Root Mean Square'])\n",
    "klase = earthquake2[['Root Mean Square']]\n",
    "\n",
    "# Stratifikovana podela na trening i test skup u odnosu 70% prema 30%\n",
    "# Random state parametar ne menjamo, da bi nam uvek bila ista podela\n",
    "uzorci_trening, uzorci_test, klase_trening, klase_test = train_test_split(uzorci, klase, test_size=0.30,\n",
    " random_state = 10)\n",
    "\n",
    "#del uzorci\n",
    "#del klase\n",
    "\n",
    "# Pozivanje klasifikatora\n",
    "\n",
    "clf = KNeighborsClassifier(n_neighbors=3, weights='uniform')\n",
    "fajl = 'KNN-3_uniform'\n",
    "\n",
    "# Pozivanje funkcije koja cuva i model i ispisuje rezultat u fajl\n",
    "clf\n",
    "\n"
   ]
  },
  {
   "cell_type": "code",
   "execution_count": null,
   "metadata": {},
   "outputs": [],
   "source": []
  }
 ],
 "metadata": {
  "kernelspec": {
   "display_name": "Python 3",
   "language": "python",
   "name": "python3"
  },
  "language_info": {
   "codemirror_mode": {
    "name": "ipython",
    "version": 3
   },
   "file_extension": ".py",
   "mimetype": "text/x-python",
   "name": "python",
   "nbconvert_exporter": "python",
   "pygments_lexer": "ipython3",
   "version": "3.7.3"
  }
 },
 "nbformat": 4,
 "nbformat_minor": 2
}
